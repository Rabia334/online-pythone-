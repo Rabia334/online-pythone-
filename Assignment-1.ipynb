{
 "cells": [
  {
   "cell_type": "code",
   "execution_count": null,
   "id": "d1e4f635-63be-4214-a9f5-ae15fccc9d4b",
   "metadata": {},
   "outputs": [],
   "source": []
  },
  {
   "cell_type": "code",
   "execution_count": 6,
   "id": "5737fb82-38ab-4a33-8d1d-a44c556daa4a",
   "metadata": {},
   "outputs": [
    {
     "name": "stdout",
     "output_type": "stream",
     "text": [
      "2021-12-30\n"
     ]
    }
   ],
   "source": [
    "from datetime import date\n",
    "todaydate= date.today()\n",
    "print(todaydate)"
   ]
  },
  {
   "cell_type": "code",
   "execution_count": 1,
   "id": "5bdbd2ad-1b51-479a-97a3-c258ace3c40a",
   "metadata": {},
   "outputs": [
    {
     "name": "stdout",
     "output_type": "stream",
     "text": [
      "My Python version is 3.9.7 (default, Sep 16 2021, 16:59:28) [MSC v.1916 64 bit (AMD64)]\n"
     ]
    }
   ],
   "source": [
    "import sys \n",
    "myPythonVersion = sys.version\n",
    "print(\"My Python version is\" , myPythonVersion) "
   ]
  },
  {
   "cell_type": "code",
   "execution_count": 12,
   "id": "2d943c21-8145-4d6b-a2f2-25db48167a2b",
   "metadata": {},
   "outputs": [
    {
     "name": "stdin",
     "output_type": "stream",
     "text": [
      "Enter a radius :  23.45\n"
     ]
    },
    {
     "name": "stdout",
     "output_type": "stream",
     "text": [
      "Area of cirlce is  1727.569654190661\n"
     ]
    }
   ],
   "source": [
    "\n",
    "import math\n",
    "\n",
    "# take a input radius from user\n",
    "# im taking input with input with float(float means decimal point hoon jis m)\n",
    "r =float(input(\"Enter a radius : \"))\n",
    "         # area ka formula hota hia  pi*radius\n",
    "area = math.pi*(r*r)\n",
    "print(\"Area of cirlce is \" , area)"
   ]
  },
  {
   "cell_type": "code",
   "execution_count": 14,
   "id": "435c26fc-b6ca-4605-b1e0-daaa89ec0b82",
   "metadata": {},
   "outputs": [
    {
     "name": "stdin",
     "output_type": "stream",
     "text": [
      "Enter your first name :  asif\n",
      "Enter your Last name :  rehman\n"
     ]
    },
    {
     "name": "stdout",
     "output_type": "stream",
     "text": [
      "rehman asif\n"
     ]
    }
   ],
   "source": [
    "firstName = input(\"Enter your first name : \")\n",
    "lastName = input(\"Enter your Last name : \")\n",
    "print(lastName,firstName) "
   ]
  },
  {
   "cell_type": "code",
   "execution_count": 16,
   "id": "45b52808-8fe6-4dd2-9180-bb8b2e89fa4e",
   "metadata": {},
   "outputs": [
    {
     "name": "stdin",
     "output_type": "stream",
     "text": [
      "Enter your First Number  :  45\n",
      "Enter your Second Number :  56\n"
     ]
    },
    {
     "name": "stdout",
     "output_type": "stream",
     "text": [
      "Addition of two number 101\n"
     ]
    }
   ],
   "source": [
    "Num1 = int(input(\"Enter your First Number  : \"))\n",
    "Num2 = int(input(\"Enter your Second Number : \"))\n",
    "Add = Num1 + Num2\n",
    "print(\"Addition of two number\" , Add)"
   ]
  },
  {
   "cell_type": "code",
   "execution_count": 21,
   "id": "afc06007-339e-44ec-8343-56a2ca163077",
   "metadata": {},
   "outputs": [
    {
     "name": "stdout",
     "output_type": "stream",
     "text": [
      "Twinkle, twinkle, little star,\n",
      "\n",
      "\tHow I wonder what you are!\n",
      "\n",
      "\t\tUp above the world so high,\n",
      "\n",
      "\t\tLike a diamond in the sky.\n",
      "Twinkle, twinkle, little star,\n",
      "\n",
      "\tHow I wonder what you are!\n"
     ]
    }
   ],
   "source": [
    "print(\"Twinkle, twinkle, little star,\")\n",
    "print(\"\\n\\tHow I wonder what you are!\")\n",
    "print(\"\\n\\t\\tUp above the world so high,\")\n",
    "print(\"\\n\\t\\tLike a diamond in the sky.\")\n",
    "print(\"Twinkle, twinkle, little star,\")\n",
    "print(\"\\n\\tHow I wonder what you are!\")"
   ]
  },
  {
   "cell_type": "code",
   "execution_count": 27,
   "id": "8bf54043-e168-43de-b905-2c30b56dafbd",
   "metadata": {},
   "outputs": [
    {
     "name": "stdout",
     "output_type": "stream",
     "text": [
      "Twinkle, twinkle, little star,\n",
      "\tHow I wonder what you are!\n",
      "\t\tUp above the world so high,\n",
      "Twinkle, twinkle, little star,\n",
      "\tHow I wonder what you are!\n"
     ]
    }
   ],
   "source": []
  },
  {
   "cell_type": "code",
   "execution_count": null,
   "id": "7166c74c-1c34-45a1-950d-ed0163f3de0c",
   "metadata": {},
   "outputs": [],
   "source": []
  },
  {
   "cell_type": "markdown",
   "id": "2d32cef7",
   "metadata": {},
   "source": []
  },
  {
   "cell_type": "code",
   "execution_count": null,
   "id": "e38f6bfe",
   "metadata": {},
   "outputs": [],
   "source": []
  }
 ],
 "metadata": {
  "kernelspec": {
   "display_name": "Python 3 (ipykernel)",
   "language": "python",
   "name": "python3"
  },
  "language_info": {
   "codemirror_mode": {
    "name": "ipython",
    "version": 3
   },
   "file_extension": ".py",
   "mimetype": "text/x-python",
   "name": "python",
   "nbconvert_exporter": "python",
   "pygments_lexer": "ipython3",
   "version": "3.9.7"
  }
 },
 "nbformat": 4,
 "nbformat_minor": 5
}
